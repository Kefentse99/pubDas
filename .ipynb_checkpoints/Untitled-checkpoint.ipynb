{
 "cells": [
  {
   "cell_type": "code",
   "execution_count": null,
   "id": "e4282e7d-fed6-4e3b-b893-907836adcac6",
   "metadata": {},
   "outputs": [],
   "source": []
  }
 ],
 "metadata": {
  "kernelspec": {
   "display_name": "Python 3 (ipykernel)",
   "language": "python",
   "name": "python3"
  },
  "language_info": {
   "name": ""
  }
 },
 "nbformat": 4,
 "nbformat_minor": 5
}
